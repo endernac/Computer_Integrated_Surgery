{
 "cells": [
  {
   "cell_type": "code",
   "execution_count": 5,
   "metadata": {
    "id": "Hcr1jC5GwWrd"
   },
   "outputs": [],
   "source": [
    "import numpy as np\n",
    "import scipy\n",
    "from scipy import stats"
   ]
  },
  {
   "cell_type": "code",
   "execution_count": 6,
   "metadata": {
    "id": "cD2lxISniBy6"
   },
   "outputs": [],
   "source": [
    "# !unzip PA12\\ -\\ Student\\ Data.zip"
   ]
  },
  {
   "cell_type": "code",
   "execution_count": 7,
   "metadata": {
    "id": "jmOjPMyZube1"
   },
   "outputs": [],
   "source": [
    "n = 50\n",
    "cloud = 50*np.random.rand(3, n)\n",
    "# print(cloud)\n",
    "\n",
    "T = 50*np.random.rand(3, 1)\n",
    "# print(T)\n",
    "\n",
    "R = stats.special_ortho_group.rvs(3)\n",
    "# print(R)\n",
    "# print(np.linalg.det(R))\n",
    "\n",
    "N = np.random.rand(3, n)\n",
    "# print(N)\n",
    "\n",
    "tran = R @ (cloud - get_centroid(cloud)) + (T + get_centroid(cloud)) + N\n",
    "# print(tran)"
   ]
  },
  {
   "cell_type": "code",
   "execution_count": 8,
   "metadata": {
    "id": "OZGJYjyJx6Db"
   },
   "outputs": [],
   "source": [
    "def get_centroid(points):\n",
    "    return np.mean(points, 1, keepdims=True)\n",
    "\n",
    "def get_H(p, tran_p):\n",
    "    p_1 = p - get_centroid(p)\n",
    "    tran_p_1 = tran_p - get_centroid(tran_p)\n",
    "    H = p_1 @ tran_p_1.T\n",
    "    return H\n",
    "\n",
    "def get_R_hat(p, tran_p):\n",
    "    H = get_H(p, tran_p)\n",
    "    U, S, VT = scipy.linalg.svd(H)\n",
    "    R_hat = (U @ VT).T\n",
    "    \n",
    "    # correction if resulting matrix is a reflection\n",
    "    if np.linalg.det(R_hat) < 0:\n",
    "        VT[2] = -VT[2]\n",
    "        R_hat = (U @ VT).T\n",
    "    \n",
    "    return R_hat\n",
    "\n",
    "def get_T_hat(p, tran_p):\n",
    "    p_c = get_centroid(p)\n",
    "    tran_p_c = get_centroid(tran_p)\n",
    "    T_hat = tran_p_c - p_c\n",
    "    return T_hat\n",
    "\n",
    "def get_Registration(p, tran_p):\n",
    "    R_hat = get_R_hat(p, tran_p)\n",
    "    T_hat = get_T_hat(p, tran_p)\n",
    "    \n",
    "    F_D = np.concatenate((R_hat, T_hat), 1)\n",
    "    F_D = np.concatenate((F_D, np.array([[0,0,0,1]])))\n",
    "    \n",
    "    return F_D"
   ]
  },
  {
   "cell_type": "code",
   "execution_count": 9,
   "metadata": {
    "colab": {
     "base_uri": "https://localhost:8080/",
     "height": 34
    },
    "id": "VKbKtzZz3va4",
    "outputId": "76618b09-deee-42d2-e15a-28f0eef65f15"
   },
   "outputs": [
    {
     "name": "stdout",
     "output_type": "stream",
     "text": [
      "[[41.87584595  8.04320736 10.3691377  39.8003773  39.90339487  3.09924043\n",
      "   3.86049257  6.46662824 49.15402537 46.07777271 27.56743616 25.67866879\n",
      "  48.47959129 16.2079637  48.50973547 45.67435604 17.64011346  2.32913665\n",
      "  43.12295157  3.6240967  39.96503906  4.59653422 18.16434304 39.16884202\n",
      "  21.00050758 18.60434215 27.63017525 23.24933601 28.10254349 16.6132395\n",
      "  15.41843948 29.60285929 37.14380413 16.41123224 44.39177519 12.91522533\n",
      "  15.76498724 29.86112413  7.80926132 25.90547724 32.36883602  5.31571404\n",
      "   6.61498199 10.1819547  25.28475384  7.72701628 17.23033658 49.64332432\n",
      "  18.31600968 32.32399343]\n",
      " [41.69419913 24.69088956 22.68795605 16.78058785 41.92748265  6.95558056\n",
      "  24.9057674  37.9822447  20.74931926 16.92026132  6.96346337 22.63543692\n",
      "  46.28459592 35.70158073 45.99946971 42.09781484  3.81211124 33.80816353\n",
      "  36.06755855 46.6486847  33.40617074 32.19392834  2.14323858 45.34904834\n",
      "  38.87396247 27.8329635  17.18295308 21.68831967 27.71196487 49.69098288\n",
      "  31.53847901 26.99086991 17.08482545 35.02682418 46.55531096 47.99222758\n",
      "  27.19629786  7.63397327  6.23774773 48.16120664 46.189125    9.69697688\n",
      "  12.03074312  5.28205096 32.17924625  3.63386235  8.12569457  3.19491712\n",
      "   0.69863629 48.7209626 ]\n",
      " [48.01052701  8.35681791 24.38343209 38.2545511  26.91104768 26.30394274\n",
      "  39.04536251 41.3749629  22.36551964 14.94663819 35.64810187  4.08630953\n",
      "  44.97899709 17.46954817  4.7597314  45.56849702 17.59470523  2.31643757\n",
      "   3.45672579 14.40116426 11.14950032 48.73016473 47.03653673 17.3576972\n",
      "  10.61845401 27.81988132 34.8859741  12.51723915 39.56425158 44.81965471\n",
      "  21.73666732 32.7687331  45.84199312 30.93513517 36.22142279  9.2460009\n",
      "   1.63075715 14.19738703 12.48109256 19.34323546 22.43241665 48.48686982\n",
      "  30.57391953 28.68586014 31.76231982 46.11114459 35.09824193 45.22744869\n",
      "  33.14244864 49.56818686]]\n"
     ]
    }
   ],
   "source": [
    "print(cloud)\n",
    "\n",
    "# R_hat, T_hat = get_Registration(cloud, tran)\n",
    "# tran_hat = R_hat @ (cloud - get_centroid(cloud)) + (T_hat + get_centroid(cloud))\n",
    "# print(R)\n",
    "# print(R_hat)\n",
    "# print(T_hat)\n",
    "# diff = (tran_hat - tran)**2\n",
    "\n",
    "# print(diff.sum())"
   ]
  },
  {
   "cell_type": "code",
   "execution_count": 10,
   "metadata": {},
   "outputs": [],
   "source": [
    "import pandas as pd\n",
    "import numpy as np\n",
    "\n",
    "def calbody_data(filepath):\n",
    "    data = pd.read_csv(filepath, header=None,names=[\"x\", \"y\", \"z\", np.nan])\n",
    "    N_D = int(data[\"x\"][0])\n",
    "    N_A = int(data[\"y\"][0])\n",
    "    N_C = int(data[\"z\"][0])\n",
    "\n",
    "    d = np.array(data[[\"x\", \"y\", \"z\"]][1:1 + N_D])\n",
    "    a = np.array(data[[\"x\", \"y\", \"z\"]][1 + N_D : 1 + N_D + N_A])\n",
    "    c = np.array(data[[\"x\", \"y\", \"z\"]][1 + N_D + N_A :])\n",
    "    return d, a, c\n",
    "\n",
    "def calreading_data(filepath):\n",
    "    '''\n",
    "        Takes a filepath\n",
    "        \n",
    "        Returns 3 arrays:\n",
    "            first array consists of of N_frames frames, each frame containing N_D measurements\n",
    "            second array consists of of N_frames frames, each frame containing N_A measurements\n",
    "            third array consists of of N_frames frames, each frame containing N_C measurements\n",
    "    '''\n",
    "    size = pd.read_csv(filepath, header=None,names=[\"D\", \"A\", \"C\", \"Frame\", np.nan], nrows = 1)\n",
    "    N_D = int(size[\"D\"][0])\n",
    "    N_A = int(size[\"A\"][0])\n",
    "    N_C = int(size[\"C\"][0])\n",
    "    N_Frames = int(size[\"Frame\"][0])\n",
    "    \n",
    "    data = pd.read_csv(filepath, header=None,names=[\"x\", \"y\", \"z\"], skiprows = [0])\n",
    "    data = np.array(data[[\"x\", \"y\", \"z\"]])\n",
    "    by_frame = np.reshape(data, (N_Frames, N_D + N_A + N_C, 3))\n",
    "    \n",
    "    d = by_frame[:, :N_D]\n",
    "    a = by_frame[:, N_D:N_D+N_A]\n",
    "    c = by_frame[:, N_D+N_A:]\n",
    "\n",
    "    return d, a, c\n",
    "\n",
    "\n",
    "def empivot_data(filepath):\n",
    "    '''\n",
    "        Takes a filepath\n",
    "        \n",
    "        Returns an array of N_frames frames, each fram containing N_G measurements\n",
    "    '''\n",
    "    size = pd.read_csv(filepath, header=None,names=[\"G\", \"Frame\", np.nan], nrows = 1)\n",
    "    N_G = int(size[\"G\"][0])\n",
    "    N_Frames = int(size[\"Frame\"][0])\n",
    "    \n",
    "    data = pd.read_csv(filepath, header=None,names=[\"x\", \"y\", \"z\"], skiprows = [0])\n",
    "    g = np.array(data[[\"x\", \"y\", \"z\"]])\n",
    "    g = np.reshape(g, (N_Frames, N_G, 3))\n",
    "    \n",
    "    return g\n",
    "\n",
    "def optpivot_data(filepath):\n",
    "    '''\n",
    "        Takes a filepath\n",
    "        \n",
    "        Returns 2 arrays:\n",
    "            first array consists of of N_frames frames, each frame containing N_D measurements\n",
    "            second array consists of of N_frames frames, each frame containing N_H measurements\n",
    "    '''\n",
    "    size = pd.read_csv(filepath, header=None,names=[\"D\", \"H\", \"Frame\", np.nan], nrows = 1)\n",
    "    N_D = int(size[\"D\"][0])\n",
    "    N_H = int(size[\"H\"][0])\n",
    "    N_Frames = int(size[\"Frame\"][0])\n",
    "    \n",
    "    data = pd.read_csv(filepath, header=None,names=[\"x\", \"y\", \"z\"], skiprows = [0])\n",
    "    data = np.array(data[[\"x\", \"y\", \"z\"]])\n",
    "    by_frame = np.reshape(data, (N_Frames, N_D + N_H, 3))\n",
    "    \n",
    "    d = by_frame[:, :N_D]\n",
    "    h = by_frame[:, N_D:]\n",
    "\n",
    "    return d, h"
   ]
  },
  {
   "cell_type": "code",
   "execution_count": null,
   "metadata": {},
   "outputs": [],
   "source": []
  },
  {
   "cell_type": "code",
   "execution_count": 11,
   "metadata": {},
   "outputs": [
    {
     "name": "stdout",
     "output_type": "stream",
     "text": [
      "8.466921575556717e-06\n",
      "9.02155102081147e-06\n",
      "8.523713424024253e-06\n",
      "9.672187556633488e-06\n",
      "8.489948725361817e-06\n",
      "9.342631877266622e-06\n",
      "8.701812176305444e-06\n",
      "1.0236600577540834e-05\n"
     ]
    }
   ],
   "source": [
    "# HW Number 4\n",
    "\n",
    "\n",
    "D, A, C = calreading_data(\"./programs/data/pa1-debug-a-calreadings.txt\")\n",
    "d, a, c = calbody_data(\"./programs/data/pa1-debug-a-calbody.txt\")\n",
    "\n",
    "\n",
    "# d_c = d.T - get_centroid(d.T)\n",
    "# F_D = get_Registration(d.T, D[0].T)\n",
    "\n",
    "# d_homo = np.concatenate((d_c, np.ones((1, d_c.shape[1]))))\n",
    "# D_hat = F_D @ d_homo\n",
    "# print(D_hat[:3].T)\n",
    "# print(D[0])\n",
    "\n",
    "\n",
    "\n",
    "# a_c = a.T - get_centroid(a.T)\n",
    "# F_A = get_Registration(a_c, A[0].T)\n",
    "\n",
    "# a_homo = np.concatenate((a_c, np.ones((1, a_c.shape[1]))))\n",
    "# A_hat = F_A @ a_homo\n",
    "# print(A_hat[:3].T)\n",
    "# print(A[0])\n",
    "\n",
    "\n",
    "for i in range(D.shape[0]):\n",
    "    F_D = get_Registration(d.T, D[i].T)\n",
    "    a_c = a.T - get_centroid(a.T)\n",
    "    F_A = get_Registration(a_c, A[i].T)\n",
    "    \n",
    "    c_c = c.T - get_centroid(c.T)\n",
    "    c_homo = np.concatenate((c_c, np.ones((1, c_c.shape[1]))))\n",
    "    C_hat = np.linalg.inv(F_D) @ F_A @ c_homo\n",
    "\n",
    "    mean_err = ((C_hat[:3].T - C[i])**2).mean()\n",
    "    print(mean_err)\n",
    "#     print(C_hat[:3].T - C[i])"
   ]
  },
  {
   "cell_type": "code",
   "execution_count": 43,
   "metadata": {},
   "outputs": [
    {
     "name": "stdout",
     "output_type": "stream",
     "text": [
      "[[0.7643555  0.16917842 0.42228385]\n",
      " [0.89859327 0.74915989 0.47246163]\n",
      " [0.80703219 0.42215685 0.34070542]\n",
      " [0.44425007 0.00451814 0.51201001]]\n"
     ]
    }
   ],
   "source": [
    "def piv_cal(R_n, p_n):\n",
    "    '''\n",
    "        Parameters: R_1 ... R_n rotation matrices of pointer body (relative to reference frame)\n",
    "                    p_1 ... p_n displacements of pointer body (relative to reference frame)\n",
    "                    \n",
    "        Returns: b_tip - displacement of tip from the pointer\n",
    "                 b_post - displacement of post from reference frame\n",
    "    '''\n",
    "    n = R_n.shape[0]\n",
    "    \n",
    "    # create the A matrix by conacentating R_1 ... R_n with identity matrices\n",
    "    A_1 = np.reshape(R_n, (3*n, 3))\n",
    "    iden = np.identity(3)\n",
    "    iden_n = np.tile(iden, (n, 1))\n",
    "    A = np.concatenate((A_1, iden_n), 1)\n",
    "    \n",
    "    # create b by concatenating p_1 ... p_n\n",
    "    b = np.reshape(p_n, (3*n, 1))\n",
    "\n",
    "    # solve least squares\n",
    "    x = np.linalg.lstsq(A, b)[0]\n",
    "    \n",
    "    b_tip, b_post = x[:3], x[3:]\n",
    "    b_tip = np.squeeze(b_tip)\n",
    "    b_post = np.squeeze(b_post)\n",
    "    \n",
    "    return b_tip, b_post\n",
    "\n",
    "\n",
    "\n",
    "R_n = np.random.rand(12, 3)\n",
    "\n",
    "R_n = np.reshape(R_n, (4, 3, 3))\n",
    "p_n = np.random.rand(4,3)\n",
    "\n",
    "print(p_n)\n",
    "\n",
    "b_tip, b_post = piv_cal(R_n, p_n)\n",
    "\n",
    "print(b_tip)\n",
    "print(b_post)\n"
   ]
  },
  {
   "cell_type": "code",
   "execution_count": 44,
   "metadata": {},
   "outputs": [
    {
     "name": "stdout",
     "output_type": "stream",
     "text": [
      "[-19.9661591  -25.43162844 -94.62883856]\n",
      "[210.00282166 327.34055891 319.50953083]\n"
     ]
    },
    {
     "name": "stderr",
     "output_type": "stream",
     "text": [
      "/home/andrew/anaconda3/lib/python3.7/site-packages/ipykernel_launcher.py:21: FutureWarning: `rcond` parameter will change to the default of machine precision times ``max(M, N)`` where M and N are the input matrix dimensions.\n",
      "To use the future default and silence this warning we advise to pass `rcond=None`, to keep using the old, explicitly pass `rcond=-1`.\n"
     ]
    }
   ],
   "source": [
    "# HW number 5\n",
    "\n",
    "# part 1 - get the central coordinate frames\n",
    "G = empivot_data(\"./programs/data/pa1-debug-a-empivot.txt\")\n",
    "G_0 = get_centroid(G[0].T)\n",
    "\n",
    "# part 2 - calculate frame transformations\n",
    "R_n = []\n",
    "p_n = []\n",
    "\n",
    "j = 0\n",
    "for k in range(G.shape[0]):\n",
    "    g = G[i].T - G_0\n",
    "    F_k = get_Registration(g, G[k].T)\n",
    "    \n",
    "    R_n.append(F_k[:3, :3])\n",
    "    p_n.append(F_k[:3, 3])\n",
    "\n",
    "# part 3 - calculate pivot calibration\n",
    "R_n = np.array(R_n)\n",
    "p_n = np.array(p_n)\n",
    "\n",
    "b_tip, b_post = piv_cal(R_n, p_n)\n",
    "\n",
    "print(b_tip)\n",
    "print(b_post)\n"
   ]
  }
 ],
 "metadata": {
  "colab": {
   "name": "PA1.ipynb",
   "provenance": []
  },
  "kernelspec": {
   "display_name": "Python 3",
   "language": "python",
   "name": "python3"
  },
  "language_info": {
   "codemirror_mode": {
    "name": "ipython",
    "version": 3
   },
   "file_extension": ".py",
   "mimetype": "text/x-python",
   "name": "python",
   "nbconvert_exporter": "python",
   "pygments_lexer": "ipython3",
   "version": "3.7.2"
  }
 },
 "nbformat": 4,
 "nbformat_minor": 2
}
