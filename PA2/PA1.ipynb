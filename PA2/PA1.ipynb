{
 "cells": [
  {
   "cell_type": "markdown",
   "metadata": {
    "id": "Hcr1jC5GwWrd"
   },
   "source": [
    "import numpy as np\n",
    "import scipy\n",
    "from scipy import stats"
   ]
  },
  {
   "cell_type": "code",
   "execution_count": 6,
   "metadata": {
    "id": "cD2lxISniBy6"
   },
   "outputs": [],
   "source": [
    "# !unzip PA12\\ -\\ Student\\ Data.zip"
   ]
  },
  {
   "cell_type": "code",
   "execution_count": 7,
   "metadata": {
    "id": "jmOjPMyZube1"
   },
   "outputs": [],
   "source": [
    "n = 50\n",
    "cloud = 50*np.random.rand(3, n)\n",
    "# print(cloud)\n",
    "\n",
    "T = 50*np.random.rand(3, 1)\n",
    "# print(T)\n",
    "\n",
    "R = stats.special_ortho_group.rvs(3)\n",
    "# print(R)\n",
    "# print(np.linalg.det(R))\n",
    "\n",
    "N = np.random.rand(3, n)\n",
    "# print(N)\n",
    "\n",
    "tran = R @ (cloud - get_centroid(cloud)) + (T + get_centroid(cloud)) + N\n",
    "# print(tran)"
   ]
  },
  {
   "cell_type": "code",
   "execution_count": 5,
   "metadata": {
    "id": "OZGJYjyJx6Db"
   },
   "outputs": [],
   "source": [
    "def get_centroid(points):\n",
    "    return np.mean(points, 1, keepdims=True)\n",
    "\n",
    "def get_H(p, tran_p):\n",
    "    p_1 = p - get_centroid(p)\n",
    "    tran_p_1 = tran_p - get_centroid(tran_p)\n",
    "    H = p_1 @ tran_p_1.T\n",
    "    return H\n",
    "\n",
    "def get_R_hat(p, tran_p):\n",
    "    H = get_H(p, tran_p)\n",
    "    U, S, VT = scipy.linalg.svd(H)\n",
    "    R_hat = (U @ VT).T\n",
    "    \n",
    "    # correction if resulting matrix is a reflection\n",
    "    if np.linalg.det(R_hat) < 0:\n",
    "        VT[2] = -VT[2]\n",
    "        R_hat = (U @ VT).T\n",
    "    \n",
    "    return R_hat\n",
    "\n",
    "def get_T_hat(p, tran_p):\n",
    "    p_c = get_centroid(p)\n",
    "    tran_p_c = get_centroid(tran_p)\n",
    "    T_hat = tran_p_c - p_c\n",
    "    return T_hat\n",
    "\n",
    "def get_Registration(p, tran_p):\n",
    "    R_hat = get_R_hat(p, tran_p)\n",
    "    T_hat = get_T_hat(p, tran_p)\n",
    "    \n",
    "    F_D = np.concatenate((R_hat, T_hat), 1)\n",
    "    F_D = np.concatenate((F_D, np.array([[0,0,0,1]])))\n",
    "    \n",
    "    return F_D"
   ]
  },
  {
   "cell_type": "code",
   "execution_count": 9,
   "metadata": {
    "colab": {
     "base_uri": "https://localhost:8080/",
     "height": 34
    },
    "id": "VKbKtzZz3va4",
    "outputId": "76618b09-deee-42d2-e15a-28f0eef65f15"
   },
   "outputs": [
    {
     "name": "stdout",
     "output_type": "stream",
     "text": [
      "[[26.34467266 33.24964055 48.27790362 17.1107523  45.8825792  44.14989771\n",
      "  39.45193513 24.30871494 44.08741573 32.93591327 40.4823297  34.54455293\n",
      "  19.36873798  1.07606627 25.86379922 24.44763041 11.25199864 25.09702195\n",
      "  17.19665707 30.25025984 13.28658243 21.25347133  0.28484652 17.18762453\n",
      "  47.76003707 27.57893859 22.4499728  46.56020287  7.40005168 37.46009688\n",
      "   1.4892462  10.4742811  13.65534323  7.68800471 14.27314668 46.49810474\n",
      "  38.71921831 31.75678693 27.83029188 10.29356752 46.24789063  2.94041793\n",
      "  43.02061911  2.71914671 12.68523558 23.7158122  35.08455161 42.32523397\n",
      "  34.96441072  4.71521934]\n",
      " [ 9.75739023 12.85023566 41.26506805 22.53965678 13.92736029  8.96318728\n",
      "   4.88108016  5.6202222  14.82954851 45.76380158 39.33288688  3.065893\n",
      "  33.76920998 21.61114544 20.1980516  17.88688972 35.10026361 45.80854044\n",
      "   5.99387582 41.66494037 43.98399697 27.28270542 21.08010734 27.06036471\n",
      "  25.36075235  5.7287444  46.19697649 21.07093518 32.88861886 26.22321604\n",
      "  34.36224748  1.43709355 20.76341132 46.1598422  26.8206089  30.93827275\n",
      "   4.88746947 26.59878845 43.23347382  2.61879798 42.35505763 38.50386423\n",
      "  33.31076639 17.7910389  28.93340142 43.94244294 42.3246224  34.25348054\n",
      "  20.38051052 44.80700564]\n",
      " [15.40550508 27.8733441  39.34379177 37.46614502 39.66633779 45.08921059\n",
      "  42.97548933 24.41573339 26.84763863 46.28740867 27.03037992 24.15424751\n",
      "  48.62220132 49.2623542  32.93065713 34.30666045 26.97167845 16.77707935\n",
      "  43.47611777 29.0825439  43.95324969 17.14309594 18.34134375 43.19077513\n",
      "  13.59243685 35.09133711 42.40182211 29.58922911  1.37677928  9.44721211\n",
      "   9.54041174 35.63778389 21.88333805 42.86662215 33.97255602 29.91965087\n",
      "  43.5159363   0.94651583 30.95661846  7.04618241  9.33645815  9.71840357\n",
      "  28.70908682 16.56190033 27.57869779 14.59408386 36.34113833 20.45479107\n",
      "  24.91652298 19.67537903]]\n"
     ]
    }
   ],
   "source": [
    "print(cloud)\n",
    "\n",
    "# R_hat, T_hat = get_Registration(cloud, tran)\n",
    "# tran_hat = R_hat @ (cloud - get_centroid(cloud)) + (T_hat + get_centroid(cloud))\n",
    "# print(R)\n",
    "# print(R_hat)\n",
    "# print(T_hat)\n",
    "# diff = (tran_hat - tran)**2\n",
    "\n",
    "# print(diff.sum())"
   ]
  },
  {
   "cell_type": "code",
   "execution_count": 3,
   "metadata": {},
   "outputs": [],
   "source": [
    "import pandas as pd\n",
    "import numpy as np\n",
    "\n",
    "def calbody_data(filepath):\n",
    "    data = pd.read_csv(filepath, header=None,names=[\"x\", \"y\", \"z\", np.nan])\n",
    "    N_D = int(data[\"x\"][0])\n",
    "    N_A = int(data[\"y\"][0])\n",
    "    N_C = int(data[\"z\"][0])\n",
    "\n",
    "    d = np.array(data[[\"x\", \"y\", \"z\"]][1:1 + N_D])\n",
    "    a = np.array(data[[\"x\", \"y\", \"z\"]][1 + N_D : 1 + N_D + N_A])\n",
    "    c = np.array(data[[\"x\", \"y\", \"z\"]][1 + N_D + N_A :])\n",
    "    return d, a, c\n",
    "\n",
    "def calreading_data(filepath):\n",
    "    '''\n",
    "        Takes a filepath\n",
    "        \n",
    "        Returns 3 arrays:\n",
    "            first array consists of of N_frames frames, each frame containing N_D measurements\n",
    "            second array consists of of N_frames frames, each frame containing N_A measurements\n",
    "            third array consists of of N_frames frames, each frame containing N_C measurements\n",
    "    '''\n",
    "    size = pd.read_csv(filepath, header=None,names=[\"D\", \"A\", \"C\", \"Frame\", np.nan], nrows = 1)\n",
    "    N_D = int(size[\"D\"][0])\n",
    "    N_A = int(size[\"A\"][0])\n",
    "    N_C = int(size[\"C\"][0])\n",
    "    N_Frames = int(size[\"Frame\"][0])\n",
    "    \n",
    "    data = pd.read_csv(filepath, header=None,names=[\"x\", \"y\", \"z\"], skiprows = [0])\n",
    "    data = np.array(data[[\"x\", \"y\", \"z\"]])\n",
    "    by_frame = np.reshape(data, (N_Frames, N_D + N_A + N_C, 3))\n",
    "    \n",
    "    d = by_frame[:, :N_D]\n",
    "    a = by_frame[:, N_D:N_D+N_A]\n",
    "    c = by_frame[:, N_D+N_A:]\n",
    "\n",
    "    return d, a, c\n",
    "\n",
    "\n",
    "def empivot_data(filepath):\n",
    "    '''\n",
    "        Takes a filepath\n",
    "        \n",
    "        Returns an array of N_frames frames, each fram containing N_G measurements\n",
    "    '''\n",
    "    size = pd.read_csv(filepath, header=None,names=[\"G\", \"Frame\", np.nan], nrows = 1)\n",
    "    N_G = int(size[\"G\"][0])\n",
    "    N_Frames = int(size[\"Frame\"][0])\n",
    "    \n",
    "    data = pd.read_csv(filepath, header=None,names=[\"x\", \"y\", \"z\"], skiprows = [0])\n",
    "    g = np.array(data[[\"x\", \"y\", \"z\"]])\n",
    "    g = np.reshape(g, (N_Frames, N_G, 3))\n",
    "    \n",
    "    return g\n",
    "\n",
    "def optpivot_data(filepath):\n",
    "    '''\n",
    "        Takes a filepath\n",
    "        \n",
    "        Returns 2 arrays:\n",
    "            first array consists of of N_frames frames, each frame containing N_D measurements\n",
    "            second array consists of of N_frames frames, each frame containing N_H measurements\n",
    "    '''\n",
    "    size = pd.read_csv(filepath, header=None,names=[\"D\", \"H\", \"Frame\", np.nan], nrows = 1)\n",
    "    N_D = int(size[\"D\"][0])\n",
    "    N_H = int(size[\"H\"][0])\n",
    "    N_Frames = int(size[\"Frame\"][0])\n",
    "    \n",
    "    data = pd.read_csv(filepath, header=None,names=[\"x\", \"y\", \"z\"], skiprows = [0])\n",
    "    data = np.array(data[[\"x\", \"y\", \"z\"]])\n",
    "    by_frame = np.reshape(data, (N_Frames, N_D + N_H, 3))\n",
    "    \n",
    "    d = by_frame[:, :N_D]\n",
    "    h = by_frame[:, N_D:]\n",
    "\n",
    "    return d, h"
   ]
  },
  {
   "cell_type": "code",
   "execution_count": 297,
   "metadata": {},
   "outputs": [],
   "source": [
    "# HW Number 1\n",
    "\n",
    "\n",
    "D, A, C = calreading_data(\"./programs/data/pa2-debug-f-calreadings.txt\")\n",
    "d, a, c = calbody_data(\"./programs/data/pa2-debug-f-calbody.txt\")\n",
    "\n",
    "\n",
    "a_c = a.T - get_centroid(a.T)\n",
    "c_c = c.T - get_centroid(c.T)\n",
    "c_homo = np.concatenate((c_c, np.ones((1, c_c.shape[1]))))\n",
    "\n",
    "C_expect = []\n",
    "\n",
    "for i in range(D.shape[0]):\n",
    "    F_D = get_Registration(d.T, D[i].T)\n",
    "    F_A = get_Registration(a_c, A[i].T)\n",
    "    C_hat = np.linalg.inv(F_D) @ F_A @ c_homo\n",
    "    C_expect.append(C_hat[:3].T)\n",
    "    \n",
    "\n",
    "C_expect = np.array(C_expect)\n",
    "N_frames, N_C, _ = C_expect.shape\n",
    "C_expect = np.reshape(C_expect, (N_frames * N_C, 3))\n",
    "C_obs = np.reshape(C, (N_frames * N_C, 3))"
   ]
  },
  {
   "cell_type": "code",
   "execution_count": 298,
   "metadata": {},
   "outputs": [
    {
     "data": {
      "text/plain": [
       "<matplotlib.collections.PathCollection at 0x7fe7e3a18438>"
      ]
     },
     "execution_count": 298,
     "metadata": {},
     "output_type": "execute_result"
    },
    {
     "data": {
      "image/png": "[encoded data removed]",
      "text/plain": [
       "<Figure size 432x288 with 1 Axes>"
      ]
     },
     "metadata": {
      "needs_background": "light"
     },
     "output_type": "display_data"
    }
   ],
   "source": [
    "c_x = C_obs.copy()\n",
    "c_y = C_expect.copy()\n",
    "\n",
    "\n",
    "minc = np.amin(C_obs, 0)\n",
    "lenc = np.amax(C_obs, 0) - np.amin(C_obs, 0)\n",
    "\n",
    "C_obs = (C_obs - minc) / lenc\n",
    "C_expect = (C_expect - minc) / lenc\n",
    "\n",
    "\n",
    "# fig = plt.figure(figsize=(15,15))\n",
    "# ax = fig.add_subplot(111, projection='3d')\n",
    "# ax.scatter(C_expect[:,0], C_expect[:,1], C_expect[:,2], marker='o', color='r')\n",
    "# ax.scatter(C_obs[:,0], C_obs[:,1], C_obs[:,2], marker='^', color='b', s=50)\n",
    "\n",
    "# C_t = C_expect[C_expect[:, 0] > 6/7 ]\n",
    "plt.scatter(np.arange(C_expect.shape[0]), C_expect[:,1])\n",
    "# ax.scatter(C_t[:,0], C_t[:,1], C_t[:,2], marker='^', color='b', s=50)\n",
    "# ax.scatter(0, 0, 0, marker='^', color='b', s=50)\n",
    "# ax.scatter(1, 1, 1, marker='^', color='b', s=50)\n",
    "\n",
    "\n",
    "\n",
    "\n",
    "# ax.set_xlabel('X Label')\n",
    "# ax.set_ylabel('Y Label')\n",
    "# ax.set_zlabel('Z Label')\n",
    "\n",
    "# plt.show()\n",
    "\n",
    "\n",
    "\n",
    "# print(C_expect[0])\n",
    "# print(c)"
   ]
  },
  {
   "cell_type": "code",
   "execution_count": 299,
   "metadata": {},
   "outputs": [
    {
     "name": "stdout",
     "output_type": "stream",
     "text": [
      "(3375, 45)\n"
     ]
    },
    {
     "data": {
      "text/plain": [
       "<matplotlib.collections.PathCollection at 0x7fe7e39fa518>"
      ]
     },
     "execution_count": 299,
     "metadata": {},
     "output_type": "execute_result"
    },
    {
     "data": {
      "image/png": "[encoded data removed]",
      "text/plain": [
       "<Figure size 432x288 with 1 Axes>"
      ]
     },
     "metadata": {
      "needs_background": "light"
     },
     "output_type": "display_data"
    }
   ],
   "source": [
    "def B(x, n, v):\n",
    "    return scipy.special.comb(n, v) * x**v * (1-x)**(n-v)\n",
    "\n",
    "\n",
    "def getbasis(p, n):\n",
    "    l = []\n",
    "    for i in range(p.shape[1]):\n",
    "        for v in range(n):\n",
    "            l.append(B(p[:,i], n, v))\n",
    "    l = np.array(l)\n",
    "    return l.T\n",
    "\n",
    "\n",
    "n = 15\n",
    "\n",
    "\n",
    "l = getbasis(C_obs, n)\n",
    "print(l.shape)\n",
    "\n",
    "i = 0\n",
    "# for v in range(n):\n",
    "plt.scatter(C_obs[:,i], l[:,5+i*n])\n",
    "# plt.scatter(C_obs[:,i], l[:,1+i*4])\n",
    "# plt.scatter(C_obs[:,i], l[:,2+i*4])\n",
    "# plt.scatter(C_obs[:,i], l[:,3+i*4])\n",
    "\n",
    "# m = np.array([B(d, 3, 0), B(d, 3, 1), B(d, 3, 2), B(d, 3, 3), ])\n",
    "# print(m)"
   ]
  },
  {
   "cell_type": "code",
   "execution_count": 301,
   "metadata": {},
   "outputs": [
    {
     "name": "stdout",
     "output_type": "stream",
     "text": [
      "Corrected:  4.487024622584549\n",
      "Original:  8.458067665618339\n"
     ]
    },
    {
     "name": "stderr",
     "output_type": "stream",
     "text": [
      "/home/andrew/anaconda3/lib/python3.7/site-packages/ipykernel_launcher.py:5: FutureWarning: `rcond` parameter will change to the default of machine precision times ``max(M, N)`` where M and N are the input matrix dimensions.\n",
      "To use the future default and silence this warning we advise to pass `rcond=None`, to keep using the old, explicitly pass `rcond=-1`.\n",
      "  \"\"\"\n"
     ]
    }
   ],
   "source": [
    "def getcoeff(obs, expect, n):\n",
    "    l = basis(obs, n)\n",
    "    coeff = []\n",
    "    for i in range(3):\n",
    "        f = np.linalg.lstsq(l, expect[:,i] - obs[:,i])[0]\n",
    "        coeff.append(f)\n",
    "    return np.array(coeff)\n",
    "\n",
    "\n",
    "def undist(coeff, coords):\n",
    "    basis = getbasis(coords, 20)\n",
    "    x_und = (coeff[0] * basis).sum(axis=1)\n",
    "    y_und = (coeff[1] * basis).sum(axis=1)\n",
    "    z_und = (coeff[2] * basis).sum(axis=1)\n",
    "    \n",
    "    coord_und = np.array([x_und, y_und, z_und]).T\n",
    "    return coord_und\n",
    "\n",
    "coeff = getcoeff(C_obs, C_expect, 20)\n",
    "und = undist(coeff, C_obs)\n",
    "und = und*lenc\n",
    "# print(und)\n",
    "# print(c_x)\n",
    "\n",
    "print(\"Corrected: \",np.sqrt(((c_y - c_x - und)**2).sum() / c_y.shape[0]))\n",
    "print(\"Original: \", np.sqrt(((c_y - c_x)**2).sum() / c_y.shape[0]))\n",
    "# print(und)"
   ]
  }
 ],
 "metadata": {
  "colab": {
   "name": "PA1.ipynb",
   "provenance": []
  },
  "kernelspec": {
   "display_name": "Python 3",
   "language": "python",
   "name": "python3"
  },
  "language_info": {
   "codemirror_mode": {
    "name": "ipython",
    "version": 3
   },
   "file_extension": ".py",
   "mimetype": "text/x-python",
   "name": "python",
   "nbconvert_exporter": "python",
   "pygments_lexer": "ipython3",
   "version": "3.7.2"
  }
 },
 "nbformat": 4,
 "nbformat_minor": 2
}
